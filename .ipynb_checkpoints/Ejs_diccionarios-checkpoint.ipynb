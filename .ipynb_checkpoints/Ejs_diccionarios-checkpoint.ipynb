{
 "cells": [
  {
   "cell_type": "markdown",
   "metadata": {},
   "source": [
    "Ejercicio 1: Se pide un programa que registre el resultado de una votación. Para esto, se le debe pedir a un usuario que ingrese votos (únicamente el nombre del partido político) hasta que decida finalizar. Una vez que finalice, se debe imprimir ordenadamente (de mayor a menor) el resultado de la votación (es decir, cada partido político con la cantidad de votos correspondientes)"
   ]
  },
  {
   "cell_type": "markdown",
   "metadata": {},
   "source": [
    "Ejercicio 2: Se pide un programa que analice promedios de alumnos universitarios. Para esto, se debe pedir al usuario que ingrese un alumno con 3 notas hasta que este decida finalizar. Una vez que termina, se debe obtener el promedio de cada uno de ellos, para finalmente imprimir a por pantalla los 3 alumnos cuyo promedio sea el más alto."
   ]
  },
  {
   "cell_type": "markdown",
   "metadata": {},
   "source": [
    "Ejercicio 3: Optimizar el programa del ej 2 de forma tal que no esté limitado únicamente a que se ingresen 3 notas por alumnos, sino que se puedan ingresar n notas y que el usuario decida cuando parar."
   ]
  },
  {
   "cell_type": "code",
   "execution_count": null,
   "metadata": {},
   "outputs": [],
   "source": []
  }
 ],
 "metadata": {
  "kernelspec": {
   "display_name": "Python 3",
   "language": "python",
   "name": "python3"
  },
  "language_info": {
   "codemirror_mode": {
    "name": "ipython",
    "version": 3
   },
   "file_extension": ".py",
   "mimetype": "text/x-python",
   "name": "python",
   "nbconvert_exporter": "python",
   "pygments_lexer": "ipython3",
   "version": "3.6.8"
  }
 },
 "nbformat": 4,
 "nbformat_minor": 2
}
