{
 "cells": [
  {
   "cell_type": "markdown",
   "metadata": {},
   "source": [
    "Comencemos viendo como podemos declarar un diccionario vacío:"
   ]
  },
  {
   "cell_type": "code",
   "execution_count": null,
   "metadata": {},
   "outputs": [],
   "source": [
    "diccionario = {}\n",
    "type(diccionario)"
   ]
  },
  {
   "cell_type": "markdown",
   "metadata": {},
   "source": [
    "Agreguemos algunos elementos al diccionario:\n",
    "IMPORTANTE: Si bien ahora estamos agregando claves con valores enteros asociados, el valor\n",
    "puede ser de cualquier tipo (strings, ints, listas, inclusive otro diccionario)."
   ]
  },
  {
   "cell_type": "code",
   "execution_count": null,
   "metadata": {},
   "outputs": [],
   "source": [
    "diccionario['clave1'] = 1\n",
    "diccionario['clave2'] = 2"
   ]
  },
  {
   "cell_type": "code",
   "execution_count": null,
   "metadata": {},
   "outputs": [],
   "source": [
    "print(diccionario['clave1'], diccionario['clave2'], diccionario['clave2'])"
   ]
  },
  {
   "cell_type": "markdown",
   "metadata": {},
   "source": [
    "Preguntando si una clave está en un diccionario:"
   ]
  },
  {
   "cell_type": "code",
   "execution_count": null,
   "metadata": {},
   "outputs": [],
   "source": [
    "if 'clave1' in diccionario: print (\"Esta\") \n",
    "else: print (\"No esta\")"
   ]
  },
  {
   "cell_type": "markdown",
   "metadata": {},
   "source": [
    "Preguntando si un valor esta en un diccionario:"
   ]
  },
  {
   "cell_type": "code",
   "execution_count": null,
   "metadata": {},
   "outputs": [],
   "source": [
    "if 1 in diccionario.values(): print (\"Esta\")\n",
    "else: print (\"No esta\")"
   ]
  },
  {
   "cell_type": "markdown",
   "metadata": {},
   "source": [
    "Una vez que guardamos estos elementos, ¿cómo es la forma de nuestro diccionario?"
   ]
  },
  {
   "cell_type": "code",
   "execution_count": null,
   "metadata": {},
   "outputs": [],
   "source": [
    "print(diccionario)"
   ]
  },
  {
   "cell_type": "markdown",
   "metadata": {},
   "source": [
    "Podemos también eliminar alguna clave:"
   ]
  },
  {
   "cell_type": "code",
   "execution_count": null,
   "metadata": {},
   "outputs": [],
   "source": [
    "del diccionario['clave1']\n",
    "print(diccionario)\n",
    "#volvemos a agregar el elemento.\n",
    "diccionario['clave1'] = 1"
   ]
  },
  {
   "cell_type": "markdown",
   "metadata": {},
   "source": [
    "Notemos que, cuando se elimina una clave, también se elimina su valor. Esto quiere decir que no pueden \n",
    "haber claves sin valores (a lo sumo el valor puede ser vacío) ni valores sin claves.\n",
    "Otra forma de eliminar claves es:"
   ]
  },
  {
   "cell_type": "code",
   "execution_count": null,
   "metadata": {},
   "outputs": [],
   "source": [
    "diccionario.pop('clave1')\n",
    "print(diccionario)\n",
    "diccionario['clave1'] = 1"
   ]
  },
  {
   "cell_type": "markdown",
   "metadata": {},
   "source": [
    "Por otro lado, no podemos eliminar elementos si la clave no está en el diccionario. Si intentamos hacerlo,\n",
    "se lanza un error de tipo KeyError."
   ]
  },
  {
   "cell_type": "code",
   "execution_count": null,
   "metadata": {
    "scrolled": true
   },
   "outputs": [],
   "source": [
    "del diccionario['clave3']"
   ]
  },
  {
   "cell_type": "markdown",
   "metadata": {},
   "source": [
    "Una forma de que esto no suceda es: (debemos tener cuidado con el contexto en la que utilizamos la siguiente\n",
    "instrucción)"
   ]
  },
  {
   "cell_type": "code",
   "execution_count": null,
   "metadata": {},
   "outputs": [],
   "source": [
    "diccionario.pop('clave3', None) \n",
    "#no arroja ningun error, el segundo parámetro indica qué se devuelve en caso de que no se encuentre el la clave."
   ]
  },
  {
   "cell_type": "markdown",
   "metadata": {},
   "source": [
    "Si queremos acceder a los elementos asociados a alguna clave de un diccionario, también tenemos\n",
    "dos opciones. La primera de ellas ya la vimos:"
   ]
  },
  {
   "cell_type": "code",
   "execution_count": null,
   "metadata": {},
   "outputs": [],
   "source": [
    "valor1 = diccionario['clave1']\n",
    "print(valor1)"
   ]
  },
  {
   "cell_type": "markdown",
   "metadata": {},
   "source": [
    " La segunda es utilizando .get y nos permite poner un segundo parámetro que es un valor por\n",
    " omisión. Esto significa que si no encuentra la clave, la variable de asignación toma ese valor:"
   ]
  },
  {
   "cell_type": "code",
   "execution_count": null,
   "metadata": {},
   "outputs": [],
   "source": [
    "valor2 = diccionario['clave2']\n",
    "valor3 = diccionario.get('clave3', [1,2,3,4,5,6])\n",
    "print(valor2, \",\", valor3)\n",
    "#eliminamos el diccionario \n",
    "del diccionario"
   ]
  },
  {
   "cell_type": "markdown",
   "metadata": {},
   "source": [
    "Otra forma de inicializar un diccionario es hacerlo con algunos valores."
   ]
  },
  {
   "cell_type": "code",
   "execution_count": null,
   "metadata": {},
   "outputs": [],
   "source": [
    "diccionario = {'clave1': 1, 'clave2': 2}\n",
    "print(diccionario)"
   ]
  },
  {
   "cell_type": "markdown",
   "metadata": {},
   "source": [
    "La forma de obtener las claves de un diccionario son: \n",
    "IMPORTANTE: La secuencia que se devuelve esta desordenada."
   ]
  },
  {
   "cell_type": "code",
   "execution_count": null,
   "metadata": {},
   "outputs": [],
   "source": [
    "claves = diccionario.keys()\n",
    "print(claves)"
   ]
  },
  {
   "cell_type": "markdown",
   "metadata": {},
   "source": [
    "La forma de obtener los valores de un diccionario son:\n",
    "IMPORTANTE: La secuencia que se devuelve esta desordenada."
   ]
  },
  {
   "cell_type": "code",
   "execution_count": null,
   "metadata": {},
   "outputs": [],
   "source": [
    "valores = diccionario.values()\n",
    "print(valores)"
   ]
  },
  {
   "cell_type": "markdown",
   "metadata": {},
   "source": [
    "Por otro lado, tambien podemos obtener una lista de tuplas de dos elementos, donde el primer valor\n",
    "de cada tupla es la clave y el segundo el valor asociado a dicha clave. "
   ]
  },
  {
   "cell_type": "code",
   "execution_count": null,
   "metadata": {},
   "outputs": [],
   "source": [
    "claves_y_valores = diccionario.items()\n",
    "print(claves_y_valores)"
   ]
  },
  {
   "cell_type": "markdown",
   "metadata": {},
   "source": [
    "Okey, ahora veamos como podemos hacer cosas un poco más complejas con diccionarios.\n",
    "Primero, veamos como podemos recorrerlos. Declaramos un diccionario cuyas claves son jugadores\n",
    "de futbol y sus valores la cantidad de goles que han metido en su carrera."
   ]
  },
  {
   "cell_type": "code",
   "execution_count": null,
   "metadata": {},
   "outputs": [],
   "source": [
    "futbolistas = {\n",
    "    'Messi': 607,\n",
    "    'CR7': 651,\n",
    "    'Bican': 805,\n",
    "    'Pele': 767,\n",
    "    'Romario': 772,\n",
    "    'Muller': 735,\n",
    "    'Puskas': 746\n",
    "}"
   ]
  },
  {
   "cell_type": "markdown",
   "metadata": {},
   "source": [
    "La forma más fácil de recorrer el diccionario es con la estructura que utilizabamos para las listas,\n",
    "las tuplas y las cadenas de caracteres. Junto a los diccionarios, las tres son estructuras que se \n",
    "consideran iterables. Veamos:"
   ]
  },
  {
   "cell_type": "code",
   "execution_count": null,
   "metadata": {},
   "outputs": [],
   "source": [
    "for futbolista in futbolistas:\n",
    "    #itera las claves.\n",
    "    print(futbolista, futbolistas[futbolista])"
   ]
  },
  {
   "cell_type": "markdown",
   "metadata": {},
   "source": [
    "Notemos que es lo mismo que iterar por dicc.keys():"
   ]
  },
  {
   "cell_type": "code",
   "execution_count": null,
   "metadata": {},
   "outputs": [],
   "source": [
    "for futbolista in futbolistas.keys():\n",
    "    print(futbolista, futbolistas[futbolista])"
   ]
  },
  {
   "cell_type": "markdown",
   "metadata": {},
   "source": [
    "Otra forma es iterar la lista de tuplas que se obtienen al hacer dicc.items()"
   ]
  },
  {
   "cell_type": "code",
   "execution_count": null,
   "metadata": {},
   "outputs": [],
   "source": [
    "for futbolista, goles in futbolistas.items():\n",
    "    print(futbolista, goles)\n"
   ]
  },
  {
   "cell_type": "markdown",
   "metadata": {},
   "source": [
    "Ya sabiendo como recorrer un diccionario, podemos querer odenarlo.\n",
    "La función que nos permite realizar esto es sorted. Lo que devuelve sorted es una lista de lo que \n",
    "queremos ordenar, por lo que debemos ser muy cuidadosos."
   ]
  },
  {
   "cell_type": "code",
   "execution_count": null,
   "metadata": {},
   "outputs": [],
   "source": [
    "futbolistas_ordenados = sorted(futbolistas)\n",
    "print(futbolistas_ordenados, type(futbolistas_ordenados))"
   ]
  },
  {
   "cell_type": "markdown",
   "metadata": {},
   "source": [
    "Vemos que, por default, al hacer sorted de un diccionario obtenemos una lista de las claves ordenadas \n",
    "alfabeticamente. Lo mismo sucede si hacemos un sorted de las claves de un diccionario."
   ]
  },
  {
   "cell_type": "code",
   "execution_count": null,
   "metadata": {},
   "outputs": [],
   "source": [
    "futbolistas_ordenados = sorted(futbolistas.keys())\n",
    "print(futbolistas_ordenados)"
   ]
  },
  {
   "cell_type": "markdown",
   "metadata": {},
   "source": [
    "Tambien, podemos obtener una lista con los valores ordenados:"
   ]
  },
  {
   "cell_type": "code",
   "execution_count": null,
   "metadata": {},
   "outputs": [],
   "source": [
    "goles_ordenados = sorted(futbolistas.values())\n",
    "print(goles_ordenados)"
   ]
  },
  {
   "cell_type": "markdown",
   "metadata": {},
   "source": [
    "Ahora bien, casi que de nada sirve tenerlos por separado. Una buena solución es agregarle algunos\n",
    "parámetros extra a la función sorted. Buscamos obtener una lista de tuplas, que en su primer índice\n",
    "tenga el nombre del futbolista (la clave) y en su segundo índice la cantidad de goles (el valor), y que \n",
    "además la lista esté ordenada por la cantidad de goles."
   ]
  },
  {
   "cell_type": "code",
   "execution_count": null,
   "metadata": {},
   "outputs": [],
   "source": [
    "futbolistas_ordenados_por_goles = sorted(futbolistas.items(), key = lambda x: x[1], reverse=True)\n",
    "print(futbolistas_ordenados_por_goles)"
   ]
  },
  {
   "cell_type": "markdown",
   "metadata": {},
   "source": [
    "En definitiva, lo que estamos ordenando exactamente no es el diccionario. Si bien si obtenemos una lista\n",
    "de tuplas ordenadas por los goles, lo que estamos ordenando es la lista de tuplas que obtuvimos con\n",
    "dicc.items()\n",
    "El parámetro key sirve para indicar cómo ordenar la tupla, definida por una función lambda que compara\n",
    "la tupla en el primer índice (donde están los goles). Se agrega reverse=True ya que por defecto será\n",
    "False y cuando esto es así ordena de menor a mayor y nosotros queremos lo contario.\n"
   ]
  },
  {
   "cell_type": "code",
   "execution_count": null,
   "metadata": {},
   "outputs": [],
   "source": [
    "futbolistas_ordenados_por_goles = sorted(futbolistas.items(), key = lambda x: x[1])\n",
    "print(futbolistas_ordenados_por_goles)"
   ]
  },
  {
   "cell_type": "code",
   "execution_count": null,
   "metadata": {},
   "outputs": [],
   "source": []
  }
 ],
 "metadata": {
  "kernelspec": {
   "display_name": "Python 3",
   "language": "python",
   "name": "python3"
  },
  "language_info": {
   "codemirror_mode": {
    "name": "ipython",
    "version": 3
   },
   "file_extension": ".py",
   "mimetype": "text/x-python",
   "name": "python",
   "nbconvert_exporter": "python",
   "pygments_lexer": "ipython3",
   "version": "3.6.8"
  }
 },
 "nbformat": 4,
 "nbformat_minor": 2
}
